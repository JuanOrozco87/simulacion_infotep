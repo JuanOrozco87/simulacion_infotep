{
  "nbformat": 4,
  "nbformat_minor": 0,
  "metadata": {
    "colab": {
      "provenance": []
    },
    "kernelspec": {
      "name": "python3",
      "display_name": "Python 3"
    },
    "language_info": {
      "name": "python"
    }
  },
  "cells": [
    {
      "cell_type": "markdown",
      "source": [
        "# MATRICES HOMOGENEAS\n"
      ],
      "metadata": {
        "id": "liSzcMCmlO1S"
      }
    },
    {
      "cell_type": "code",
      "execution_count": null,
      "metadata": {
        "id": "jHF-I9QWj5kg"
      },
      "outputs": [],
      "source": [
        "import numpy as np\n",
        "from sympy import*\n",
        "init_printing()"
      ]
    },
    {
      "cell_type": "markdown",
      "source": [
        "Declaración de Variables simbolicas"
      ],
      "metadata": {
        "id": "wHFeU4xAlgFE"
      }
    },
    {
      "cell_type": "code",
      "source": [
        "theta = symbols(\"theta\", real=True)\n",
        "phi = symbols(\"phi\", real=True)\n",
        "psi = symbols(\"psi\", real=True)"
      ],
      "metadata": {
        "id": "QW3AaqXYkaZk"
      },
      "execution_count": null,
      "outputs": []
    },
    {
      "cell_type": "markdown",
      "source": [
        "Rotación eje x"
      ],
      "metadata": {
        "id": "OzSWD_BmlqcV"
      }
    },
    {
      "cell_type": "code",
      "source": [
        "H_X = Matrix([[1, 0, 0, 0], [0, cos(phi), -sin(phi), 0], [0, sin(phi), cos(phi), 0], [0, 0, 0, 1]])\n",
        "H_X"
      ],
      "metadata": {
        "colab": {
          "base_uri": "https://localhost:8080/",
          "height": 98
        },
        "id": "Ja31YsTxk-lb",
        "outputId": "942ba075-ceb5-4d4d-9145-43b0fb9283e2"
      },
      "execution_count": null,
      "outputs": [
        {
          "output_type": "execute_result",
          "data": {
            "text/plain": [
              "⎡1    0        0     0⎤\n",
              "⎢                     ⎥\n",
              "⎢0  cos(φ)  -sin(φ)  0⎥\n",
              "⎢                     ⎥\n",
              "⎢0  sin(φ)  cos(φ)   0⎥\n",
              "⎢                     ⎥\n",
              "⎣0    0        0     1⎦"
            ],
            "text/latex": "$\\displaystyle \\left[\\begin{matrix}1 & 0 & 0 & 0\\\\0 & \\cos{\\left(\\phi \\right)} & - \\sin{\\left(\\phi \\right)} & 0\\\\0 & \\sin{\\left(\\phi \\right)} & \\cos{\\left(\\phi \\right)} & 0\\\\0 & 0 & 0 & 1\\end{matrix}\\right]$"
          },
          "metadata": {},
          "execution_count": 24
        }
      ]
    },
    {
      "cell_type": "markdown",
      "source": [
        "Rotación en el Eje Y"
      ],
      "metadata": {
        "id": "WXZP6xctm-Gr"
      }
    },
    {
      "cell_type": "code",
      "source": [
        "H_y = Matrix([[cos(theta), 0, sin(theta), 0], [0, 1, 0, 0], [-sin(theta), 0, cos(theta), 0], [0, 0, 0, 1]])\n",
        "H_y"
      ],
      "metadata": {
        "colab": {
          "base_uri": "https://localhost:8080/",
          "height": 98
        },
        "id": "i9rkT8JenAQB",
        "outputId": "2a43ccf6-eada-4960-cf81-c4c45fb0d440"
      },
      "execution_count": null,
      "outputs": [
        {
          "output_type": "execute_result",
          "data": {
            "text/plain": [
              "⎡cos(θ)   0  sin(θ)  0⎤\n",
              "⎢                     ⎥\n",
              "⎢   0     1    0     0⎥\n",
              "⎢                     ⎥\n",
              "⎢-sin(θ)  0  cos(θ)  0⎥\n",
              "⎢                     ⎥\n",
              "⎣   0     0    0     1⎦"
            ],
            "text/latex": "$\\displaystyle \\left[\\begin{matrix}\\cos{\\left(\\theta \\right)} & 0 & \\sin{\\left(\\theta \\right)} & 0\\\\0 & 1 & 0 & 0\\\\- \\sin{\\left(\\theta \\right)} & 0 & \\cos{\\left(\\theta \\right)} & 0\\\\0 & 0 & 0 & 1\\end{matrix}\\right]$"
          },
          "metadata": {},
          "execution_count": 25
        }
      ]
    },
    {
      "cell_type": "markdown",
      "source": [
        "Rotación en Eje z"
      ],
      "metadata": {
        "id": "BTqePySTnJIQ"
      }
    },
    {
      "cell_type": "code",
      "source": [
        "H_z = Matrix([[cos(psi), -sin(psi), 0, 0], [sin(psi), cos(psi), 0, 0], [0, 0, 1, 0], [0, 0, 0, 1]])\n",
        "H_z\n"
      ],
      "metadata": {
        "colab": {
          "base_uri": "https://localhost:8080/",
          "height": 98
        },
        "id": "xlzrIqYwnNlI",
        "outputId": "ed192e99-f315-436e-96aa-608ead5d46e0"
      },
      "execution_count": null,
      "outputs": [
        {
          "output_type": "execute_result",
          "data": {
            "text/plain": [
              "⎡cos(ψ)  -sin(ψ)  0  0⎤\n",
              "⎢                     ⎥\n",
              "⎢sin(ψ)  cos(ψ)   0  0⎥\n",
              "⎢                     ⎥\n",
              "⎢  0        0     1  0⎥\n",
              "⎢                     ⎥\n",
              "⎣  0        0     0  1⎦"
            ],
            "text/latex": "$\\displaystyle \\left[\\begin{matrix}\\cos{\\left(\\psi \\right)} & - \\sin{\\left(\\psi \\right)} & 0 & 0\\\\\\sin{\\left(\\psi \\right)} & \\cos{\\left(\\psi \\right)} & 0 & 0\\\\0 & 0 & 1 & 0\\\\0 & 0 & 0 & 1\\end{matrix}\\right]$"
          },
          "metadata": {},
          "execution_count": 26
        }
      ]
    },
    {
      "cell_type": "markdown",
      "source": [
        "# COMPOSICIÓN DE MATRICES HOMOGENEAS"
      ],
      "metadata": {
        "id": "5MnDGpkKnfYo"
      }
    },
    {
      "cell_type": "code",
      "source": [
        "H = H_z@H_y@H_X\n",
        "H"
      ],
      "metadata": {
        "colab": {
          "base_uri": "https://localhost:8080/",
          "height": 118
        },
        "id": "99SQjB2Dnntq",
        "outputId": "a81108aa-7f7d-48cc-8a81-6d6b52646d2b"
      },
      "execution_count": null,
      "outputs": [
        {
          "output_type": "execute_result",
          "data": {
            "text/plain": [
              "⎡cos(ψ)⋅cos(θ)  sin(φ)⋅sin(θ)⋅cos(ψ) - sin(ψ)⋅cos(φ)  sin(φ)⋅sin(ψ) + sin(θ)⋅cos(φ)⋅cos(ψ)   0⎤\n",
              "⎢                                                                                             ⎥\n",
              "⎢sin(ψ)⋅cos(θ)  sin(φ)⋅sin(ψ)⋅sin(θ) + cos(φ)⋅cos(ψ)  -sin(φ)⋅cos(ψ) + sin(ψ)⋅sin(θ)⋅cos(φ)  0⎥\n",
              "⎢                                                                                             ⎥\n",
              "⎢   -sin(θ)                sin(φ)⋅cos(θ)                          cos(φ)⋅cos(θ)              0⎥\n",
              "⎢                                                                                             ⎥\n",
              "⎣      0                         0                                      0                    1⎦"
            ],
            "text/latex": "$\\displaystyle \\left[\\begin{matrix}\\cos{\\left(\\psi \\right)} \\cos{\\left(\\theta \\right)} & \\sin{\\left(\\phi \\right)} \\sin{\\left(\\theta \\right)} \\cos{\\left(\\psi \\right)} - \\sin{\\left(\\psi \\right)} \\cos{\\left(\\phi \\right)} & \\sin{\\left(\\phi \\right)} \\sin{\\left(\\psi \\right)} + \\sin{\\left(\\theta \\right)} \\cos{\\left(\\phi \\right)} \\cos{\\left(\\psi \\right)} & 0\\\\\\sin{\\left(\\psi \\right)} \\cos{\\left(\\theta \\right)} & \\sin{\\left(\\phi \\right)} \\sin{\\left(\\psi \\right)} \\sin{\\left(\\theta \\right)} + \\cos{\\left(\\phi \\right)} \\cos{\\left(\\psi \\right)} & - \\sin{\\left(\\phi \\right)} \\cos{\\left(\\psi \\right)} + \\sin{\\left(\\psi \\right)} \\sin{\\left(\\theta \\right)} \\cos{\\left(\\phi \\right)} & 0\\\\- \\sin{\\left(\\theta \\right)} & \\sin{\\left(\\phi \\right)} \\cos{\\left(\\theta \\right)} & \\cos{\\left(\\phi \\right)} \\cos{\\left(\\theta \\right)} & 0\\\\0 & 0 & 0 & 1\\end{matrix}\\right]$"
          },
          "metadata": {},
          "execution_count": 27
        }
      ]
    },
    {
      "cell_type": "code",
      "source": [
        "H = H_X@H_y@H_z\n",
        "H"
      ],
      "metadata": {
        "colab": {
          "base_uri": "https://localhost:8080/",
          "height": 118
        },
        "id": "jvSf76rSoUGG",
        "outputId": "eb3a5eb3-8d3a-4319-a261-06fa894686da"
      },
      "execution_count": null,
      "outputs": [
        {
          "output_type": "execute_result",
          "data": {
            "text/plain": [
              "⎡           cos(ψ)⋅cos(θ)                         -sin(ψ)⋅cos(θ)                  sin(θ)      0⎤\n",
              "⎢                                                                                              ⎥\n",
              "⎢sin(φ)⋅sin(θ)⋅cos(ψ) + sin(ψ)⋅cos(φ)  -sin(φ)⋅sin(ψ)⋅sin(θ) + cos(φ)⋅cos(ψ)  -sin(φ)⋅cos(θ)  0⎥\n",
              "⎢                                                                                              ⎥\n",
              "⎢sin(φ)⋅sin(ψ) - sin(θ)⋅cos(φ)⋅cos(ψ)  sin(φ)⋅cos(ψ) + sin(ψ)⋅sin(θ)⋅cos(φ)   cos(φ)⋅cos(θ)   0⎥\n",
              "⎢                                                                                              ⎥\n",
              "⎣                 0                                      0                          0         1⎦"
            ],
            "text/latex": "$\\displaystyle \\left[\\begin{matrix}\\cos{\\left(\\psi \\right)} \\cos{\\left(\\theta \\right)} & - \\sin{\\left(\\psi \\right)} \\cos{\\left(\\theta \\right)} & \\sin{\\left(\\theta \\right)} & 0\\\\\\sin{\\left(\\phi \\right)} \\sin{\\left(\\theta \\right)} \\cos{\\left(\\psi \\right)} + \\sin{\\left(\\psi \\right)} \\cos{\\left(\\phi \\right)} & - \\sin{\\left(\\phi \\right)} \\sin{\\left(\\psi \\right)} \\sin{\\left(\\theta \\right)} + \\cos{\\left(\\phi \\right)} \\cos{\\left(\\psi \\right)} & - \\sin{\\left(\\phi \\right)} \\cos{\\left(\\theta \\right)} & 0\\\\\\sin{\\left(\\phi \\right)} \\sin{\\left(\\psi \\right)} - \\sin{\\left(\\theta \\right)} \\cos{\\left(\\phi \\right)} \\cos{\\left(\\psi \\right)} & \\sin{\\left(\\phi \\right)} \\cos{\\left(\\psi \\right)} + \\sin{\\left(\\psi \\right)} \\sin{\\left(\\theta \\right)} \\cos{\\left(\\phi \\right)} & \\cos{\\left(\\phi \\right)} \\cos{\\left(\\theta \\right)} & 0\\\\0 & 0 & 0 & 1\\end{matrix}\\right]$"
          },
          "metadata": {},
          "execution_count": 28
        }
      ]
    },
    {
      "cell_type": "markdown",
      "source": [
        "# 1 EXPERIMENTO"
      ],
      "metadata": {
        "id": "o4osV_-EpnJI"
      }
    },
    {
      "cell_type": "markdown",
      "source": [
        "Comprobar que una secuencia de rotaciones produce el mismo resultado que una composición de matrices homogeneas"
      ],
      "metadata": {
        "id": "W2e2eavMpvYS"
      }
    },
    {
      "cell_type": "code",
      "source": [
        "P0 = np.array([1, 1, 0])"
      ],
      "metadata": {
        "id": "J6174Wiopq3n"
      },
      "execution_count": null,
      "outputs": []
    },
    {
      "cell_type": "markdown",
      "source": [
        "## 1. PROBANDO MATRICES ROTACIÓN 3D"
      ],
      "metadata": {
        "id": "wFvLrhB8qXvs"
      }
    },
    {
      "cell_type": "markdown",
      "source": [
        "Matriz de rotación 3D sobre el Eje x"
      ],
      "metadata": {
        "id": "l1_6rEl7qqPi"
      }
    },
    {
      "cell_type": "code",
      "source": [
        "R_x = Matrix([[1, 0, 0], [0, cos(theta), -sin(theta)], [0, sin(theta), cos(theta)]])\n",
        "R_x"
      ],
      "metadata": {
        "colab": {
          "base_uri": "https://localhost:8080/",
          "height": 78
        },
        "id": "CpbiD-qmqkG1",
        "outputId": "c1881e24-505d-4bbd-96cd-3c664d2e0856"
      },
      "execution_count": null,
      "outputs": [
        {
          "output_type": "execute_result",
          "data": {
            "text/plain": [
              "⎡1    0        0   ⎤\n",
              "⎢                  ⎥\n",
              "⎢0  cos(θ)  -sin(θ)⎥\n",
              "⎢                  ⎥\n",
              "⎣0  sin(θ)  cos(θ) ⎦"
            ],
            "text/latex": "$\\displaystyle \\left[\\begin{matrix}1 & 0 & 0\\\\0 & \\cos{\\left(\\theta \\right)} & - \\sin{\\left(\\theta \\right)}\\\\0 & \\sin{\\left(\\theta \\right)} & \\cos{\\left(\\theta \\right)}\\end{matrix}\\right]$"
          },
          "metadata": {},
          "execution_count": 31
        }
      ]
    },
    {
      "cell_type": "markdown",
      "source": [
        "Matriz de rotación 3D sobre el Eje y"
      ],
      "metadata": {
        "id": "lZKd05yxrzda"
      }
    },
    {
      "cell_type": "code",
      "source": [
        "R_y = Matrix([[cos(theta), 0, sin(theta)], [0, 1, 0], [-sin(theta), 0, cos(theta)]])\n",
        "R_y"
      ],
      "metadata": {
        "colab": {
          "base_uri": "https://localhost:8080/",
          "height": 78
        },
        "id": "-MWe32jZrkgB",
        "outputId": "f6fa6c9d-6546-4ad5-b755-7e0372022c07"
      },
      "execution_count": null,
      "outputs": [
        {
          "output_type": "execute_result",
          "data": {
            "text/plain": [
              "⎡cos(θ)   0  sin(θ)⎤\n",
              "⎢                  ⎥\n",
              "⎢   0     1    0   ⎥\n",
              "⎢                  ⎥\n",
              "⎣-sin(θ)  0  cos(θ)⎦"
            ],
            "text/latex": "$\\displaystyle \\left[\\begin{matrix}\\cos{\\left(\\theta \\right)} & 0 & \\sin{\\left(\\theta \\right)}\\\\0 & 1 & 0\\\\- \\sin{\\left(\\theta \\right)} & 0 & \\cos{\\left(\\theta \\right)}\\end{matrix}\\right]$"
          },
          "metadata": {},
          "execution_count": 32
        }
      ]
    },
    {
      "cell_type": "code",
      "source": [
        "theta_val = np.pi/9 # 20 grados en radianes\n",
        "R_x_p0 = np.array(R_x.subs({theta: theta_val})).astype(np.float64) #Se convierte theta simbolico a un valor concreto Rx\n",
        "R_y_p0 = np.array(R_y.subs({theta: theta_val})).astype(np.float64) #Se convierte theta simbolico a un valor concreto Ry\n",
        "\n",
        "P0_rotado_x = np.dot(R_x_p0, P0) #Producto punto entre la matrix de rotación y el vector de posición del punto\n",
        "P0_rotado_y = np.dot(R_y_p0, P0_rotado_x) #Producto punto entre la matrix de rotación y el vector de posición del punto\n",
        "\n",
        "print(P0_rotado_y)"
      ],
      "metadata": {
        "colab": {
          "base_uri": "https://localhost:8080/"
        },
        "id": "BWLs72uqtfjP",
        "outputId": "207d4711-e669-47b8-c198-07dcbc16393c"
      },
      "execution_count": null,
      "outputs": [
        {
          "output_type": "stream",
          "name": "stdout",
          "text": [
            "[ 1.0566704   0.93969262 -0.02062634]\n"
          ]
        }
      ]
    },
    {
      "cell_type": "markdown",
      "source": [
        "## PROBANDO COMPOSICIÓN MATRICES HOMOGENEAS"
      ],
      "metadata": {
        "id": "VHFzdnPwuPDP"
      }
    },
    {
      "cell_type": "markdown",
      "source": [
        "Se convierte el punto 3D a un punto de coordenadas homogeneas"
      ],
      "metadata": {
        "id": "ik0ON6EBukKx"
      }
    },
    {
      "cell_type": "code",
      "source": [
        "P0_homogeneo = np.append(P0, 1)\n",
        "P0_homogeneo = np.reshape(P0_homogeneo, (4, 1))\n",
        "print(P0)\n",
        "print(P0_homogeneo)"
      ],
      "metadata": {
        "colab": {
          "base_uri": "https://localhost:8080/"
        },
        "id": "2Qh0BEfvuiar",
        "outputId": "d0bdfca9-aaed-47c3-c2d6-487a906f6391"
      },
      "execution_count": null,
      "outputs": [
        {
          "output_type": "stream",
          "name": "stdout",
          "text": [
            "[1 1 0]\n",
            "[[1]\n",
            " [1]\n",
            " [0]\n",
            " [1]]\n"
          ]
        }
      ]
    },
    {
      "cell_type": "markdown",
      "source": [
        "Composición de matrices homogeneas para x & y"
      ],
      "metadata": {
        "id": "MKQCwp88u8gZ"
      }
    },
    {
      "cell_type": "code",
      "source": [
        "Hxy = H_y@H_X\n",
        "Hxy"
      ],
      "metadata": {
        "colab": {
          "base_uri": "https://localhost:8080/",
          "height": 98
        },
        "id": "UwqKmY1RvDMp",
        "outputId": "f8db7249-50ba-467b-8f31-ac1cc4ab01da"
      },
      "execution_count": null,
      "outputs": [
        {
          "output_type": "execute_result",
          "data": {
            "text/plain": [
              "⎡cos(θ)   sin(φ)⋅sin(θ)  sin(θ)⋅cos(φ)  0⎤\n",
              "⎢                                        ⎥\n",
              "⎢   0        cos(φ)         -sin(φ)     0⎥\n",
              "⎢                                        ⎥\n",
              "⎢-sin(θ)  sin(φ)⋅cos(θ)  cos(φ)⋅cos(θ)  0⎥\n",
              "⎢                                        ⎥\n",
              "⎣   0           0              0        1⎦"
            ],
            "text/latex": "$\\displaystyle \\left[\\begin{matrix}\\cos{\\left(\\theta \\right)} & \\sin{\\left(\\phi \\right)} \\sin{\\left(\\theta \\right)} & \\sin{\\left(\\theta \\right)} \\cos{\\left(\\phi \\right)} & 0\\\\0 & \\cos{\\left(\\phi \\right)} & - \\sin{\\left(\\phi \\right)} & 0\\\\- \\sin{\\left(\\theta \\right)} & \\sin{\\left(\\phi \\right)} \\cos{\\left(\\theta \\right)} & \\cos{\\left(\\phi \\right)} \\cos{\\left(\\theta \\right)} & 0\\\\0 & 0 & 0 & 1\\end{matrix}\\right]$"
          },
          "metadata": {},
          "execution_count": 36
        }
      ]
    },
    {
      "cell_type": "code",
      "source": [
        "theta_val = np.pi/9 # 20 grados en radianes\n",
        "phi_val = np.pi/9 # 20 grados en radianes\n",
        "\n",
        "Hxy_p0 = np.array(Hxy.subs({phi: phi_val, theta: theta_val})).astype(np.float64) #Se convierte theta simbolico a un valor concreto Rx\n",
        "Hxy_p0"
      ],
      "metadata": {
        "colab": {
          "base_uri": "https://localhost:8080/"
        },
        "id": "jVhQxpZbvaIE",
        "outputId": "1536f046-cb41-44b2-9971-89de43a123ba"
      },
      "execution_count": null,
      "outputs": [
        {
          "output_type": "execute_result",
          "data": {
            "text/plain": [
              "array([[ 0.93969262,  0.11697778,  0.3213938 ,  0.        ],\n",
              "       [ 0.        ,  0.93969262, -0.34202014,  0.        ],\n",
              "       [-0.34202014,  0.3213938 ,  0.88302222,  0.        ],\n",
              "       [ 0.        ,  0.        ,  0.        ,  1.        ]])"
            ]
          },
          "metadata": {},
          "execution_count": 37
        }
      ]
    },
    {
      "cell_type": "code",
      "source": [
        "P0_rotado_Hxy = np.dot(Hxy_p0, P0_homogeneo)\n",
        "P0_rotado_Hxy"
      ],
      "metadata": {
        "colab": {
          "base_uri": "https://localhost:8080/"
        },
        "id": "OCxUFV6owCD4",
        "outputId": "6e8654da-26cb-4f30-afdc-68a2b386b3b1"
      },
      "execution_count": null,
      "outputs": [
        {
          "output_type": "execute_result",
          "data": {
            "text/plain": [
              "array([[ 1.0566704 ],\n",
              "       [ 0.93969262],\n",
              "       [-0.02062634],\n",
              "       [ 1.        ]])"
            ]
          },
          "metadata": {},
          "execution_count": 38
        }
      ]
    },
    {
      "cell_type": "markdown",
      "source": [
        "# RESOLUCIÓN DEL TALLER\n"
      ],
      "metadata": {
        "id": "KRFYnl3ZvSdo"
      }
    },
    {
      "cell_type": "markdown",
      "source": [
        "## 1 EJERCICIO"
      ],
      "metadata": {
        "id": "nRmfUHelw35G"
      }
    },
    {
      "cell_type": "code",
      "source": [
        "H = H_z@H_y@H_X\n",
        "theta_val = np.pi*56/180\n",
        "phi_val = np.pi*2/180\n",
        "psi_val = np.pi*53/180\n",
        "\n",
        "Hzyx = np.array(H.subs({phi: phi_val, theta: theta_val, psi: psi_val})).astype(np.float64) #Se convierte theta simbolico a un valor concreto Rx\n",
        "\n",
        "Hzyx"
      ],
      "metadata": {
        "colab": {
          "base_uri": "https://localhost:8080/"
        },
        "id": "RWdKpogFwmQI",
        "outputId": "5e4ced0e-daaa-4601-d263-2e4fa482b4c1"
      },
      "execution_count": null,
      "outputs": [
        {
          "output_type": "execute_result",
          "data": {
            "text/plain": [
              "array([[ 0.33653069, -0.78073669,  0.52649531,  0.        ],\n",
              "       [ 0.44659131,  0.62455533,  0.64069247,  0.        ],\n",
              "       [-0.82903757,  0.01951555,  0.55885226,  0.        ],\n",
              "       [ 0.        ,  0.        ,  0.        ,  1.        ]])"
            ]
          },
          "metadata": {},
          "execution_count": 40
        }
      ]
    },
    {
      "cell_type": "code",
      "source": [
        "np.dot(Hzyx, P0_homogeneo)"
      ],
      "metadata": {
        "colab": {
          "base_uri": "https://localhost:8080/"
        },
        "id": "sNi8Mwv1wu2J",
        "outputId": "e9bf8981-2bb6-4954-b4f3-fdefd3a139d9"
      },
      "execution_count": null,
      "outputs": [
        {
          "output_type": "execute_result",
          "data": {
            "text/plain": [
              "array([[-0.444206  ],\n",
              "       [ 1.07114664],\n",
              "       [-0.80952202],\n",
              "       [ 1.        ]])"
            ]
          },
          "metadata": {},
          "execution_count": 41
        }
      ]
    },
    {
      "cell_type": "markdown",
      "source": [
        "\n",
        "## 2 Ejercicio"
      ],
      "metadata": {
        "id": "oRlsq8K0xx7v"
      }
    },
    {
      "cell_type": "markdown",
      "source": [
        "Declaración de variables"
      ],
      "metadata": {
        "id": "FJ-YPP-nyDq_"
      }
    },
    {
      "cell_type": "code",
      "source": [
        "tx = symbols(\"tx\",  real=True)\n",
        "ty = symbols(\"ty\",  real=True)\n",
        "tz = symbols(\"tz\",  real=True)\n",
        "\n",
        "H_y = Matrix([[cos(theta), 0, sin(theta), tx*cos(theta) + tz*sin(theta)], [0, 1, 0, ty], [-sin(theta), 0, cos(theta), tz*cos(theta) - tx*sin(theta)], [0, 0, 0, 1]])\n",
        "H_y\n",
        "\n",
        "tx_val = 3\n",
        "ty_val = 0\n",
        "tz_val = 0\n",
        "theta_val = np.pi*6/180\n",
        "\n",
        "Jtheta = np.array(H_y.subs({theta: theta_val, tx: tx_val, ty: ty_val, tz:tz_val})).astype(np.float64)\n",
        "Jtheta\n",
        "\n",
        "\n",
        "Jphi = Matrix([[1, 0, 0, 0], [0, cos(phi), -sin(phi), 0], [0, sin(phi), cos(phi), 0], [0, 0, 0, 1]])\n",
        "Jphi\n",
        "phi_val = np.pi*2/180\n",
        "\n",
        "Jphi1 = np.array(Jphi.subs({phi: phi_val,})).astype(np.float64) #Se convierte phi simbolico a un valor concreto\n",
        "Jphi1\n",
        "\n",
        "Jtheta2 = Matrix([[cos(theta), 0, sin(theta), tx*cos(theta) + tz*sin(theta)], [0, 1, 0, ty], [-sin(theta), 0, cos(theta), tz*cos(theta) - tx*sin(theta)], [0, 0, 0, 1]])\n",
        "Jtheta2\n",
        "tx_val = 1\n",
        "ty_val = 1\n",
        "tz_val = 0\n",
        "theta_val = np.pi*-6/180\n",
        "\n",
        "Jtheta3 = np.array(Jtheta2.subs({theta: theta_val, tx: tx_val, ty: ty_val, tz:tz_val})).astype(np.float64)\n",
        "Jtheta3\n",
        "\n",
        "H = Jtheta@Jphi1@Jtheta3\n",
        "H\n",
        "np.dot(H, P0_homogeneo)"
      ],
      "metadata": {
        "colab": {
          "base_uri": "https://localhost:8080/"
        },
        "id": "wadlUePgDP5H",
        "outputId": "e7b92ac0-cf47-46b8-a434-bbe99a76e47f"
      },
      "execution_count": 46,
      "outputs": [
        {
          "output_type": "execute_result",
          "data": {
            "text/plain": [
              "array([[ 4.99084836],\n",
              "       [ 1.99148567],\n",
              "       [-0.24429542],\n",
              "       [ 1.        ]])"
            ]
          },
          "metadata": {},
          "execution_count": 46
        }
      ]
    },
    {
      "cell_type": "markdown",
      "source": [
        "## 3 EJERCICIO"
      ],
      "metadata": {
        "id": "O87OItVQDexL"
      }
    },
    {
      "cell_type": "code",
      "source": [
        "tx = symbols(\"tx\",  real=True)\n",
        "ty = symbols(\"ty\",  real=True)\n",
        "tz = symbols(\"tz\",  real=True)\n",
        "Jpsiz = Matrix([[cos(psi), -sin(psi), 0, tx], [sin(psi), cos(psi), 0, ty], [0, 0, 1, tz], [0, 0, 0, 1] ])\n",
        "Jpsiz\n",
        "\n",
        "tx_val = 3\n",
        "ty_val = 0\n",
        "tz_val = 0\n",
        "psi_val = np.pi*53/180\n",
        "\n",
        "Jpsiz2 = np.array(Jpsiz.subs({psi: psi_val, tx: tx_val, ty: ty_val, tz:tz_val})).astype(np.float64)\n",
        "Jpsiz2\n",
        "\n",
        "Jthetay = Matrix([[cos(theta), 0, sin(theta), 0], [0, 1, 0, 0], [-sin(theta), 0, cos(theta), 0], [0, 0, 0, 1]])\n",
        "Jthetay\n",
        "\n",
        "theta_val = np.pi*56/180\n",
        "\n",
        "Jthetay2 = np.array(Jthetay.subs({theta: theta_val,})).astype(np.float64) #Se convierte theta simbolico a un valor concreto\n",
        "Jthetay2\n",
        "\n",
        "Jt2 = [1, 1, 0]\n",
        "Jt2 = Matrix([[1, 0, 0, Jt2[0]], [0, 1, 0, Jt2[1]], [0, 0, 1, Jt2[2]], [0, 0, 0, 1]])\n",
        "Jt2\n",
        "\n",
        "Jt3 = np.array(Jt2).astype(np.float64)\n",
        "Jt3\n",
        "\n",
        "Jtheta3 = Matrix([[cos(psi), -sin(psi), 0, 0], [sin(psi), cos(psi), 0, 0], [0, 0, 1, 0], [0, 0, 0, 1]])\n",
        "Jtheta3\n",
        "\n",
        "psi_val = np.pi*53/180\n",
        "\n",
        "J4 = np.array(Jtheta3.subs({psi: psi_val,})).astype(np.float64)\n",
        "J4\n",
        "\n",
        "H = Jpsiz2@Jthetay2@Jt3@J4\n",
        "H\n",
        "np.dot(H, P0_homogeneo)"
      ],
      "metadata": {
        "colab": {
          "base_uri": "https://localhost:8080/"
        },
        "id": "X7RYlzjKDmnD",
        "outputId": "f140846e-d17d-49fb-dc2c-266228528140"
      },
      "execution_count": 47,
      "outputs": [
        {
          "output_type": "execute_result",
          "data": {
            "text/plain": [
              "array([[ 1.35320952],\n",
              "       [ 1.80332018],\n",
              "       [-0.66586599],\n",
              "       [ 1.        ]])"
            ]
          },
          "metadata": {},
          "execution_count": 47
        }
      ]
    },
    {
      "cell_type": "markdown",
      "source": [
        "## 4 Ejercicio"
      ],
      "metadata": {
        "id": "bZls89wLDx5H"
      }
    },
    {
      "cell_type": "code",
      "source": [
        "tx = symbols(\"tx\",  real=True)\n",
        "ty = symbols(\"ty\",  real=True)\n",
        "tz = symbols(\"tz\",  real=True)\n",
        "\n",
        "Jthetay = Matrix([[cos(theta), 0, sin(theta), 0], [0, 1, 0, 0], [-sin(theta), 0, cos(theta), 0], [0, 0, 0, 1]])\n",
        "Jthetay\n",
        "\n",
        "theta_val = np.pi*56/180\n",
        "\n",
        "Jthetay2 = np.array(Jthetay.subs({theta: theta_val})).astype(np.float64)\n",
        "Jthetay2\n",
        "\n",
        "Jpsiz = Matrix ([[cos(psi), -sin(psi), 0, tx], [sin(psi), cos(psi), 0, ty], [0, 0, 1, tz], [0, 0, 0, 1]])\n",
        "Jpsiz\n",
        "\n",
        "tx_val = 3\n",
        "ty_val = 0\n",
        "tz_val = 0\n",
        "psi_val = np.pi*11/180\n",
        "\n",
        "Jpsiz2 = np.array(Jpsiz.subs({psi: psi_val,tx:tx_val, ty:ty_val,tz:tz_val})).astype(np.float64)\n",
        "Jpsiz2\n",
        "\n",
        "Jthetay3 = Matrix([[cos(psi), -sin(psi), 0, 0], [sin(psi), cos(psi), 0, 0], [0, 0, 1, 0], [0, 0, 0, 1]])\n",
        "Jthetay3\n",
        "psi_val = np.pi*-3/180\n",
        "\n",
        "Jthetay4 = np.array(Jthetay3.subs({psi: psi_val})).astype(np.float64)\n",
        "Jthetay4\n",
        "\n",
        "\n",
        "Jphix = Matrix([[1, 0, 0, 0], [0, cos(phi), -sin(phi), 0], [0, sin(phi), cos(phi), 0], [0, 0, 0, 1]])\n",
        "Jphix\n",
        "phi_val = np.pi*2/180\n",
        "\n",
        "Jphi4 = np.array(Jphix.subs({phi: phi_val})).astype(np.float64)\n",
        "Jphi4\n",
        "\n",
        "\n",
        "Jpsiz3 = Matrix([[cos(psi), -sin(psi), 0, 0], [sin(psi), cos(psi), 0, 0], [0, 0, 1, 0], [0, 0, 0, 1]])\n",
        "Jpsiz3\n",
        "psi_val = np.pi*278/180\n",
        "\n",
        "Jpsi5 = np.array(Jpsiz3.subs({psi: psi_val})).astype(np.float64)\n",
        "Jpsi5\n",
        "\n",
        "H = Jthetay2 @ Jpsiz2 @ Jthetay4 @ Jphi4 @ Jpsi5\n",
        "H\n",
        "\n",
        "np.dot(H, P0_homogeneo)\n",
        "\n",
        "\n"
      ],
      "metadata": {
        "colab": {
          "base_uri": "https://localhost:8080/"
        },
        "id": "vbXZwsd0D0h8",
        "outputId": "c0487fcd-8d87-4369-af13-327f09c3726b"
      },
      "execution_count": 48,
      "outputs": [
        {
          "output_type": "execute_result",
          "data": {
            "text/plain": [
              "array([[ 2.34457881],\n",
              "       [-0.68511092],\n",
              "       [-3.52909827],\n",
              "       [ 1.        ]])"
            ]
          },
          "metadata": {},
          "execution_count": 48
        }
      ]
    }
  ]
}